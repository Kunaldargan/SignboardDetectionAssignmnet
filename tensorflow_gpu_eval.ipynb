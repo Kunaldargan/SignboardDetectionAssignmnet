{
  "nbformat": 4,
  "nbformat_minor": 0,
  "metadata": {
    "accelerator": "GPU",
    "colab": {
      "name": "tensorflow_gpu_eval.ipynb",
      "provenance": [],
      "collapsed_sections": []
    },
    "kernelspec": {
      "display_name": "Python 3",
      "name": "python3"
    },
    "language_info": {
      "name": "python"
    }
  },
  "cells": [
    {
      "cell_type": "code",
      "metadata": {
        "colab": {
          "base_uri": "https://localhost:8080/"
        },
        "id": "pPSumleiHmA9",
        "outputId": "2bc67420-da59-40d7-efb3-7df934ee814b"
      },
      "source": [
        "%tensorflow_version 1.x"
      ],
      "execution_count": 1,
      "outputs": [
        {
          "output_type": "stream",
          "text": [
            "TensorFlow 1.x selected.\n"
          ],
          "name": "stdout"
        }
      ]
    },
    {
      "cell_type": "code",
      "metadata": {
        "id": "zrO8c4i4Hy3i"
      },
      "source": [
        "import tensorflow as tf"
      ],
      "execution_count": 2,
      "outputs": []
    },
    {
      "cell_type": "code",
      "metadata": {
        "id": "rMO8F4aGIHFi",
        "colab": {
          "base_uri": "https://localhost:8080/"
        },
        "outputId": "bec47e7a-1788-456b-a69c-08a0ac6a5b88"
      },
      "source": [
        "print(tf.__version__)"
      ],
      "execution_count": 3,
      "outputs": [
        {
          "output_type": "stream",
          "text": [
            "1.15.2\n"
          ],
          "name": "stdout"
        }
      ]
    },
    {
      "cell_type": "code",
      "metadata": {
        "id": "ue7gbrXrIQAI",
        "colab": {
          "base_uri": "https://localhost:8080/"
        },
        "outputId": "81a8c687-5a69-42ee-89bc-ec3747c27d22"
      },
      "source": [
        "from tensorflow.python.client import device_lib\n",
        "print(tf.test.gpu_device_name())"
      ],
      "execution_count": 4,
      "outputs": [
        {
          "output_type": "stream",
          "text": [
            "/device:GPU:0\n"
          ],
          "name": "stdout"
        }
      ]
    },
    {
      "cell_type": "code",
      "metadata": {
        "id": "QpQ_hHe1IcNV",
        "colab": {
          "base_uri": "https://localhost:8080/"
        },
        "outputId": "19c39533-1de2-4c0b-d797-a4ee94958bea"
      },
      "source": [
        "from google.colab import drive\n",
        "drive.mount('/content/drive')"
      ],
      "execution_count": 5,
      "outputs": [
        {
          "output_type": "stream",
          "text": [
            "Mounted at /content/drive\n"
          ],
          "name": "stdout"
        }
      ]
    },
    {
      "cell_type": "code",
      "metadata": {
        "id": "wSLIP-47J9nv",
        "colab": {
          "base_uri": "https://localhost:8080/"
        },
        "outputId": "6d5b0860-1bb0-438e-c130-480c3801b4fb"
      },
      "source": [
        "%cd /content/drive/MyDrive/IITD_Resources/YOLOv3_TensorFlow-master"
      ],
      "execution_count": 6,
      "outputs": [
        {
          "output_type": "stream",
          "text": [
            "/content/drive/MyDrive/IITD_Resources/YOLOv3_TensorFlow-master\n"
          ],
          "name": "stdout"
        }
      ]
    },
    {
      "cell_type": "code",
      "metadata": {
        "id": "fvnT8CGNKcyB"
      },
      "source": [
        "!ls"
      ],
      "execution_count": null,
      "outputs": []
    },
    {
      "cell_type": "code",
      "metadata": {
        "colab": {
          "base_uri": "https://localhost:8080/"
        },
        "id": "B89WvePgHKBx",
        "outputId": "43818f12-4695-4fe0-fd18-4dbdff1ff30a"
      },
      "source": [
        "!ls test"
      ],
      "execution_count": 12,
      "outputs": [
        {
          "output_type": "stream",
          "text": [
            "1016.jpg  1202.jpg  1340.jpg  1401.jpg\t279.jpg  358.jpg  719.jpg  78.jpg\n",
            "1016.txt  1202.txt  1340.txt  1401.txt\t279.txt  358.txt  719.txt  78.txt\n",
            "1017.jpg  1203.jpg  1341.jpg  1402.jpg\t280.jpg  359.jpg  720.jpg  79.jpg\n",
            "1017.txt  1203.txt  1341.txt  1402.txt\t280.txt  359.txt  720.txt  79.txt\n",
            "1018.jpg  1204.jpg  1342.jpg  1403.jpg\t281.jpg  360.jpg  721.jpg  801.jpg\n",
            "1018.txt  1204.txt  1342.txt  1403.txt\t281.txt  360.txt  721.txt  801.txt\n",
            "1019.jpg  1205.jpg  1343.jpg  1404.jpg\t282.jpg  361.jpg  722.jpg  802.jpg\n",
            "1019.txt  1205.txt  1343.txt  1404.txt\t282.txt  361.txt  722.txt  802.txt\n",
            "1020.jpg  1206.jpg  1367.jpg  1430.jpg\t283.jpg  362.jpg  723.jpg  803.jpg\n",
            "1020.txt  1206.txt  1367.txt  1430.txt\t283.txt  362.txt  723.txt  803.txt\n",
            "1021.jpg  1207.jpg  1368.jpg  1431.jpg\t284.jpg  363.jpg  724.jpg  804.jpg\n",
            "1021.txt  1207.txt  1368.txt  1431.txt\t284.txt  363.txt  724.txt  804.txt\n",
            "1022.jpg  1208.jpg  1369.jpg  1432.jpg\t285.jpg  364.jpg  725.jpg  805.jpg\n",
            "1022.txt  1208.txt  1369.txt  1432.txt\t285.txt  364.txt  725.txt  805.txt\n",
            "1023.jpg  1209.jpg  1370.jpg  1433.jpg\t286.jpg  509.jpg  726.jpg  806.jpg\n",
            "1023.txt  1209.txt  1370.txt  1433.txt\t286.txt  509.txt  726.txt  806.txt\n",
            "1024.jpg  1283.jpg  1371.jpg  1448.jpg\t287.jpg  510.jpg  727.jpg  807.jpg\n",
            "1024.txt  1283.txt  1371.txt  1448.txt\t287.txt  510.txt  727.txt  807.txt\n",
            "1025.jpg  1284.jpg  1372.jpg  1449.jpg\t288.jpg  511.jpg  728.jpg  808.jpg\n",
            "1025.txt  1284.txt  1372.txt  1449.txt\t288.txt  511.txt  728.txt  808.txt\n",
            "1026.jpg  1285.jpg  1373.jpg  1450.jpg\t289.jpg  512.jpg  729.jpg  809.jpg\n",
            "1026.txt  1285.txt  1373.txt  1450.txt\t289.txt  512.txt  729.txt  809.txt\n",
            "1027.jpg  1286.jpg  1374.jpg  1451.jpg\t290.jpg  513.jpg  730.jpg  80.jpg\n",
            "1027.txt  1286.txt  1374.txt  1451.txt\t290.txt  513.txt  730.txt  80.txt\n",
            "1028.jpg  1287.jpg  1375.jpg  1452.jpg\t291.jpg  514.jpg  731.jpg  890.jpg\n",
            "1028.txt  1287.txt  1375.txt  1452.txt\t291.txt  514.txt  731.txt  890.txt\n",
            "1029.jpg  1288.jpg  1376.jpg  1508.jpg\t292.jpg  515.jpg  732.jpg  891.jpg\n",
            "1029.txt  1288.txt  1376.txt  1508.txt\t292.txt  515.txt  732.txt  891.txt\n",
            "1030.jpg  1289.jpg  1377.jpg  1509.jpg\t293.jpg  516.jpg  733.jpg  892.jpg\n",
            "1030.txt  1289.txt  1377.txt  1509.txt\t293.txt  516.txt  733.txt  892.txt\n",
            "1031.jpg  1290.jpg  1378.jpg  1510.jpg\t294.jpg  517.jpg  734.jpg  893.jpg\n",
            "1031.txt  1290.txt  1378.txt  1510.txt\t294.txt  517.txt  734.txt  893.txt\n",
            "1032.jpg  1291.jpg  1379.jpg  1511.jpg\t295.jpg  518.jpg  735.jpg  894.jpg\n",
            "1032.txt  1291.txt  1379.txt  1511.txt\t295.txt  518.txt  735.txt  894.txt\n",
            "1033.jpg  1292.jpg  1380.jpg  1512.jpg\t296.jpg  519.jpg  736.jpg  895.jpg\n",
            "1033.txt  1292.txt  1380.txt  1512.txt\t296.txt  519.txt  736.txt  895.txt\n",
            "1034.jpg  1293.jpg  1381.jpg  1513.jpg\t297.jpg  520.jpg  737.jpg  896.jpg\n",
            "1034.txt  1293.txt  1381.txt  1513.txt\t297.txt  520.txt  737.txt  896.txt\n",
            "1035.jpg  1294.jpg  1382.jpg  1514.jpg\t298.jpg  521.jpg  738.jpg  897.jpg\n",
            "1035.txt  1294.txt  1382.txt  1514.txt\t298.txt  521.txt  738.txt  897.txt\n",
            "1040.jpg  1295.jpg  1383.jpg  189.jpg\t299.jpg  522.jpg  739.jpg  898.jpg\n",
            "1040.txt  1295.txt  1383.txt  189.txt\t299.txt  522.txt  739.txt  898.txt\n",
            "1041.jpg  1296.jpg  1384.jpg  190.jpg\t300.jpg  523.jpg  73.jpg   934.jpg\n",
            "1041.txt  1296.txt  1384.txt  190.txt\t300.txt  523.txt  73.txt   934.txt\n",
            "1042.jpg  1297.jpg  1385.jpg  191.jpg\t301.jpg  524.jpg  740.jpg  935.jpg\n",
            "1042.txt  1297.txt  1385.txt  191.txt\t301.txt  524.txt  740.txt  935.txt\n",
            "1043.jpg  1298.jpg  1386.jpg  192.jpg\t302.jpg  525.jpg  741.jpg  936.jpg\n",
            "1043.txt  1298.txt  1386.txt  192.txt\t302.txt  525.txt  741.txt  936.txt\n",
            "1044.jpg  1299.jpg  1387.jpg  193.jpg\t303.jpg  526.jpg  742.jpg  937.jpg\n",
            "1044.txt  1299.txt  1387.txt  193.txt\t303.txt  526.txt  742.txt  937.txt\n",
            "1045.jpg  1327.jpg  1388.jpg  194.jpg\t304.jpg  527.jpg  743.jpg  938.jpg\n",
            "1045.txt  1327.txt  1388.txt  194.txt\t304.txt  527.txt  743.txt  938.txt\n",
            "1046.jpg  1328.jpg  1389.jpg  195.jpg\t305.jpg  528.jpg  744.jpg  939.jpg\n",
            "1046.txt  1328.txt  1389.txt  195.txt\t305.txt  528.txt  744.txt  939.txt\n",
            "1078.jpg  1329.jpg  1390.jpg  196.jpg\t306.jpg  529.jpg  745.jpg  940.jpg\n",
            "1078.txt  1329.txt  1390.txt  196.txt\t306.txt  529.txt  745.txt  940.txt\n",
            "1079.jpg  1330.jpg  1391.jpg  197.jpg\t307.jpg  530.jpg  746.jpg  941.jpg\n",
            "1079.txt  1330.txt  1391.txt  197.txt\t307.txt  530.txt  746.txt  941.txt\n",
            "1080.jpg  1331.jpg  1392.jpg  198.jpg\t349.jpg  531.jpg  747.jpg  942.jpg\n",
            "1080.txt  1331.txt  1392.txt  198.txt\t349.txt  531.txt  747.txt  942.txt\n",
            "1081.jpg  1332.jpg  1393.jpg  199.jpg\t350.jpg  532.jpg  748.jpg  943.jpg\n",
            "1081.txt  1332.txt  1393.txt  199.txt\t350.txt  532.txt  748.txt  943.txt\n",
            "1082.jpg  1333.jpg  1394.jpg  200.jpg\t351.jpg  633.jpg  749.jpg  944.jpg\n",
            "1082.txt  1333.txt  1394.txt  200.txt\t351.txt  633.txt  749.txt  944.txt\n",
            "1128.jpg  1334.jpg  1395.jpg  201.jpg\t352.jpg  634.jpg  74.jpg   945.jpg\n",
            "1128.txt  1334.txt  1395.txt  201.txt\t352.txt  634.txt  74.txt   945.txt\n",
            "1129.jpg  1335.jpg  1396.jpg  202.jpg\t353.jpg  635.jpg  750.jpg  946.jpg\n",
            "1129.txt  1335.txt  1396.txt  202.txt\t353.txt  635.txt  750.txt  946.txt\n",
            "1130.jpg  1336.jpg  1397.jpg  275.jpg\t354.jpg  636.jpg  751.jpg  947.jpg\n",
            "1130.txt  1336.txt  1397.txt  275.txt\t354.txt  636.txt  751.txt  947.txt\n",
            "1199.jpg  1337.jpg  1398.jpg  276.jpg\t355.jpg  637.jpg  75.jpg\n",
            "1199.txt  1337.txt  1398.txt  276.txt\t355.txt  637.txt  75.txt\n",
            "1200.jpg  1338.jpg  1399.jpg  277.jpg\t356.jpg  638.jpg  76.jpg\n",
            "1200.txt  1338.txt  1399.txt  277.txt\t356.txt  638.txt  76.txt\n",
            "1201.jpg  1339.jpg  1400.jpg  278.jpg\t357.jpg  639.jpg  77.jpg\n",
            "1201.txt  1339.txt  1400.txt  278.txt\t357.txt  639.txt  77.txt\n"
          ],
          "name": "stdout"
        }
      ]
    },
    {
      "cell_type": "code",
      "metadata": {
        "colab": {
          "base_uri": "https://localhost:8080/"
        },
        "id": "V_FGinKAX0dr",
        "outputId": "cb48eec6-3806-4368-aaa7-181faf2d65a2"
      },
      "source": [
        "!CUDA_VISIBLE_DEVICES=0 python3 test_single_image.py --restore_path ./checkpoint/model-epoch_60_step_9393_loss_0.0845_lr_1e-05 --input_image ./test/633.jpg"
      ],
      "execution_count": 27,
      "outputs": [
        {
          "output_type": "stream",
          "text": [
            "WARNING:tensorflow:\n",
            "The TensorFlow contrib module will not be included in TensorFlow 2.0.\n",
            "For more information, please see:\n",
            "  * https://github.com/tensorflow/community/blob/master/rfcs/20180907-contrib-sunset.md\n",
            "  * https://github.com/tensorflow/addons\n",
            "  * https://github.com/tensorflow/io (for I/O related ops)\n",
            "If you depend on functionality not listed there, please file an issue.\n",
            "\n",
            "WARNING:tensorflow:From test_single_image.py:48: The name tf.Session is deprecated. Please use tf.compat.v1.Session instead.\n",
            "\n",
            "2021-04-15 15:39:44.356882: I tensorflow/stream_executor/platform/default/dso_loader.cc:44] Successfully opened dynamic library libcuda.so.1\n",
            "2021-04-15 15:39:44.364517: I tensorflow/stream_executor/cuda/cuda_gpu_executor.cc:983] successful NUMA node read from SysFS had negative value (-1), but there must be at least one NUMA node, so returning NUMA node zero\n",
            "2021-04-15 15:39:44.365076: I tensorflow/core/common_runtime/gpu/gpu_device.cc:1639] Found device 0 with properties: \n",
            "name: Tesla T4 major: 7 minor: 5 memoryClockRate(GHz): 1.59\n",
            "pciBusID: 0000:00:04.0\n",
            "2021-04-15 15:39:44.365334: I tensorflow/stream_executor/platform/default/dso_loader.cc:44] Successfully opened dynamic library libcudart.so.10.1\n",
            "2021-04-15 15:39:44.366640: I tensorflow/stream_executor/platform/default/dso_loader.cc:44] Successfully opened dynamic library libcublas.so.10\n",
            "2021-04-15 15:39:44.368068: I tensorflow/stream_executor/platform/default/dso_loader.cc:44] Successfully opened dynamic library libcufft.so.10\n",
            "2021-04-15 15:39:44.368383: I tensorflow/stream_executor/platform/default/dso_loader.cc:44] Successfully opened dynamic library libcurand.so.10\n",
            "2021-04-15 15:39:44.369684: I tensorflow/stream_executor/platform/default/dso_loader.cc:44] Successfully opened dynamic library libcusolver.so.10\n",
            "2021-04-15 15:39:44.370327: I tensorflow/stream_executor/platform/default/dso_loader.cc:44] Successfully opened dynamic library libcusparse.so.10\n",
            "2021-04-15 15:39:44.373339: I tensorflow/stream_executor/platform/default/dso_loader.cc:44] Successfully opened dynamic library libcudnn.so.7\n",
            "2021-04-15 15:39:44.373458: I tensorflow/stream_executor/cuda/cuda_gpu_executor.cc:983] successful NUMA node read from SysFS had negative value (-1), but there must be at least one NUMA node, so returning NUMA node zero\n",
            "2021-04-15 15:39:44.374143: I tensorflow/stream_executor/cuda/cuda_gpu_executor.cc:983] successful NUMA node read from SysFS had negative value (-1), but there must be at least one NUMA node, so returning NUMA node zero\n",
            "2021-04-15 15:39:44.375026: I tensorflow/core/common_runtime/gpu/gpu_device.cc:1767] Adding visible gpu devices: 0\n",
            "2021-04-15 15:39:44.380724: I tensorflow/core/platform/profile_utils/cpu_utils.cc:94] CPU Frequency: 2199995000 Hz\n",
            "2021-04-15 15:39:44.380935: I tensorflow/compiler/xla/service/service.cc:168] XLA service 0x558c0b8c8f40 initialized for platform Host (this does not guarantee that XLA will be used). Devices:\n",
            "2021-04-15 15:39:44.380961: I tensorflow/compiler/xla/service/service.cc:176]   StreamExecutor device (0): Host, Default Version\n",
            "2021-04-15 15:39:44.472090: I tensorflow/stream_executor/cuda/cuda_gpu_executor.cc:983] successful NUMA node read from SysFS had negative value (-1), but there must be at least one NUMA node, so returning NUMA node zero\n",
            "2021-04-15 15:39:44.472798: I tensorflow/compiler/xla/service/service.cc:168] XLA service 0x558c0b8c9100 initialized for platform CUDA (this does not guarantee that XLA will be used). Devices:\n",
            "2021-04-15 15:39:44.472837: I tensorflow/compiler/xla/service/service.cc:176]   StreamExecutor device (0): Tesla T4, Compute Capability 7.5\n",
            "2021-04-15 15:39:44.473069: I tensorflow/stream_executor/cuda/cuda_gpu_executor.cc:983] successful NUMA node read from SysFS had negative value (-1), but there must be at least one NUMA node, so returning NUMA node zero\n",
            "2021-04-15 15:39:44.473627: I tensorflow/core/common_runtime/gpu/gpu_device.cc:1639] Found device 0 with properties: \n",
            "name: Tesla T4 major: 7 minor: 5 memoryClockRate(GHz): 1.59\n",
            "pciBusID: 0000:00:04.0\n",
            "2021-04-15 15:39:44.473737: I tensorflow/stream_executor/platform/default/dso_loader.cc:44] Successfully opened dynamic library libcudart.so.10.1\n",
            "2021-04-15 15:39:44.473810: I tensorflow/stream_executor/platform/default/dso_loader.cc:44] Successfully opened dynamic library libcublas.so.10\n",
            "2021-04-15 15:39:44.473851: I tensorflow/stream_executor/platform/default/dso_loader.cc:44] Successfully opened dynamic library libcufft.so.10\n",
            "2021-04-15 15:39:44.473879: I tensorflow/stream_executor/platform/default/dso_loader.cc:44] Successfully opened dynamic library libcurand.so.10\n",
            "2021-04-15 15:39:44.473901: I tensorflow/stream_executor/platform/default/dso_loader.cc:44] Successfully opened dynamic library libcusolver.so.10\n",
            "2021-04-15 15:39:44.473932: I tensorflow/stream_executor/platform/default/dso_loader.cc:44] Successfully opened dynamic library libcusparse.so.10\n",
            "2021-04-15 15:39:44.473957: I tensorflow/stream_executor/platform/default/dso_loader.cc:44] Successfully opened dynamic library libcudnn.so.7\n",
            "2021-04-15 15:39:44.474044: I tensorflow/stream_executor/cuda/cuda_gpu_executor.cc:983] successful NUMA node read from SysFS had negative value (-1), but there must be at least one NUMA node, so returning NUMA node zero\n",
            "2021-04-15 15:39:44.474663: I tensorflow/stream_executor/cuda/cuda_gpu_executor.cc:983] successful NUMA node read from SysFS had negative value (-1), but there must be at least one NUMA node, so returning NUMA node zero\n",
            "2021-04-15 15:39:44.475233: I tensorflow/core/common_runtime/gpu/gpu_device.cc:1767] Adding visible gpu devices: 0\n",
            "2021-04-15 15:39:44.475355: I tensorflow/stream_executor/platform/default/dso_loader.cc:44] Successfully opened dynamic library libcudart.so.10.1\n",
            "2021-04-15 15:39:44.476779: I tensorflow/core/common_runtime/gpu/gpu_device.cc:1180] Device interconnect StreamExecutor with strength 1 edge matrix:\n",
            "2021-04-15 15:39:44.476816: I tensorflow/core/common_runtime/gpu/gpu_device.cc:1186]      0 \n",
            "2021-04-15 15:39:44.476828: I tensorflow/core/common_runtime/gpu/gpu_device.cc:1199] 0:   N \n",
            "2021-04-15 15:39:44.476983: I tensorflow/stream_executor/cuda/cuda_gpu_executor.cc:983] successful NUMA node read from SysFS had negative value (-1), but there must be at least one NUMA node, so returning NUMA node zero\n",
            "2021-04-15 15:39:44.477589: I tensorflow/stream_executor/cuda/cuda_gpu_executor.cc:983] successful NUMA node read from SysFS had negative value (-1), but there must be at least one NUMA node, so returning NUMA node zero\n",
            "2021-04-15 15:39:44.478102: W tensorflow/core/common_runtime/gpu/gpu_bfc_allocator.cc:39] Overriding allow_growth setting because the TF_FORCE_GPU_ALLOW_GROWTH environment variable is set. Original config value was 0.\n",
            "2021-04-15 15:39:44.478144: I tensorflow/core/common_runtime/gpu/gpu_device.cc:1325] Created TensorFlow device (/job:localhost/replica:0/task:0/device:GPU:0 with 14161 MB memory) -> physical GPU (device: 0, name: Tesla T4, pci bus id: 0000:00:04.0, compute capability: 7.5)\n",
            "WARNING:tensorflow:From test_single_image.py:49: The name tf.placeholder is deprecated. Please use tf.compat.v1.placeholder instead.\n",
            "\n",
            "WARNING:tensorflow:From test_single_image.py:51: The name tf.variable_scope is deprecated. Please use tf.compat.v1.variable_scope instead.\n",
            "\n",
            "WARNING:tensorflow:From /tensorflow-1.15.2/python3.7/tensorflow_core/contrib/layers/python/layers/layers.py:1057: Layer.apply (from tensorflow.python.keras.engine.base_layer) is deprecated and will be removed in a future version.\n",
            "Instructions for updating:\n",
            "Please use `layer.__call__` method instead.\n",
            "WARNING:tensorflow:From /content/drive/MyDrive/IITD_Resources/YOLOv3_TensorFlow-master/utils/layer_utils.py:86: The name tf.image.resize_nearest_neighbor is deprecated. Please use tf.compat.v1.image.resize_nearest_neighbor instead.\n",
            "\n",
            "pred_probs Tensor(\"concat_8:0\", shape=(1, 10647, 1), dtype=float32)\n",
            "pred_probs Tensor(\"concat_7:0\", shape=(1, 10647, 1), dtype=float32)\n",
            "WARNING:tensorflow:From /tensorflow-1.15.2/python3.7/tensorflow_core/python/ops/array_ops.py:1475: where (from tensorflow.python.ops.array_ops) is deprecated and will be removed in a future version.\n",
            "Instructions for updating:\n",
            "Use tf.where in 2.0, which has the same broadcast rule as np.where\n",
            "WARNING:tensorflow:From test_single_image.py:61: The name tf.train.Saver is deprecated. Please use tf.compat.v1.train.Saver instead.\n",
            "\n",
            "2021-04-15 15:39:48.651245: I tensorflow/stream_executor/platform/default/dso_loader.cc:44] Successfully opened dynamic library libcudnn.so.7\n",
            "2021-04-15 15:39:49.838803: I tensorflow/stream_executor/platform/default/dso_loader.cc:44] Successfully opened dynamic library libcublas.so.10\n",
            "box coords:\n",
            "[[390.2609  198.99826 483.62225 255.60507]]\n",
            "******************************\n",
            "scores:\n",
            "[0.9564081]\n",
            "******************************\n",
            "labels:\n",
            "[0]\n"
          ],
          "name": "stdout"
        }
      ]
    },
    {
      "cell_type": "code",
      "metadata": {
        "id": "M5vOaOsNgLSA"
      },
      "source": [
        ""
      ],
      "execution_count": null,
      "outputs": []
    },
    {
      "cell_type": "code",
      "metadata": {
        "id": "tT9ZtiaVRLy1"
      },
      "source": [
        ""
      ],
      "execution_count": null,
      "outputs": []
    }
  ]
}